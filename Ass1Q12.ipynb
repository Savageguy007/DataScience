{
  "nbformat": 4,
  "nbformat_minor": 0,
  "metadata": {
    "colab": {
      "provenance": []
    },
    "kernelspec": {
      "name": "python3",
      "display_name": "Python 3"
    },
    "language_info": {
      "name": "python"
    },
    "gpuClass": "standard"
  },
  "cells": [
    {
      "cell_type": "code",
      "source": [
        "a=int (input (\"Enter lower bound : \")) \n",
        "b=int (input (\"Enter upper bound : \")) \n",
        "c= []\n",
        "c= [x for x in range(a,b+1) if (int(x**0.5))**2==x and\n",
        "sum(list(map(int,str(x))))<10]\n",
        "print(\"The numbers are : \",c)"
      ],
      "metadata": {
        "colab": {
          "base_uri": "https://localhost:8080/"
        },
        "id": "IoaU5sWSCNtb",
        "outputId": "a64902b2-ef6f-4a93-b537-accfbe822a8f"
      },
      "execution_count": 7,
      "outputs": [
        {
          "output_type": "stream",
          "name": "stdout",
          "text": [
            "Enter lower bound : 30\n",
            "Enter upper bound : 5000\n",
            "The numbers are :  [36, 81, 100, 121, 144, 225, 324, 400, 441, 900, 1024, 1521, 1600, 2025, 2304, 2401, 2500, 2601, 3600]\n"
          ]
        }
      ]
    }
  ]
}