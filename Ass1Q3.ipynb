{
  "nbformat": 4,
  "nbformat_minor": 0,
  "metadata": {
    "colab": {
      "provenance": []
    },
    "kernelspec": {
      "name": "python3",
      "display_name": "Python 3"
    },
    "language_info": {
      "name": "python"
    },
    "gpuClass": "standard"
  },
  "cells": [
    {
      "cell_type": "code",
      "execution_count": 19,
      "metadata": {
        "id": "hFY_noXBr-hK"
      },
      "outputs": [],
      "source": [
        "import random\n",
        "import string"
      ]
    },
    {
      "cell_type": "code",
      "source": [
        "a=int(input(\"Enter the number of passwords required : \"))\n",
        "b=int(input(\"The length of each password : \"))\n",
        "def generatePassword(c):\n",
        "      \n",
        "    Password=''.join(random.choice(string.printable) for i in range(c))\n",
        "    print(Password)\n",
        "print(\"The passwords are : \") \n",
        "for i in  range (a):\n",
        "    generatePassword(b)    "
      ],
      "metadata": {
        "colab": {
          "base_uri": "https://localhost:8080/"
        },
        "id": "Gifym-di0B34",
        "outputId": "75990c4f-b8f7-46e0-be26-873ddce435c6"
      },
      "execution_count": 29,
      "outputs": [
        {
          "output_type": "stream",
          "name": "stdout",
          "text": [
            "Enter the number of passwords required : 5\n",
            "The length of each password : 10\n",
            "The passwords are : \n",
            "Z>6ADN/zUs\n",
            "@AuhX5sg.:\n",
            "##Met\n",
            "#w\\G#j>O(\u000b\n",
            "nmD=`FYWlf\n"
          ]
        }
      ]
    }
  ]
}